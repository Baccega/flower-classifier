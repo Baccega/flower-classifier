{
  "cells": [
    {
      "cell_type": "code",
      "execution_count": 42,
      "metadata": {
        "colab": {
          "base_uri": "https://localhost:8080/"
        },
        "id": "nq21KSBUeKMt",
        "outputId": "01ff84c8-d72a-4b94-fbb9-91b40ce44608"
      },
      "outputs": [
        {
          "data": {
            "text/plain": [
              "<torch._C.Generator at 0x7fe212620410>"
            ]
          },
          "execution_count": 42,
          "metadata": {},
          "output_type": "execute_result"
        }
      ],
      "source": [
        "import torch\n",
        "import torch.nn as nn\n",
        "import torch.nn.functional as F\n",
        "import torch.optim as optim\n",
        "import pandas as pd\n",
        "import numpy as np\n",
        "import tqdm\n",
        "from torchvision import datasets, transforms, models\n",
        "from torch.utils.tensorboard import SummaryWriter\n",
        "import matplotlib.pyplot as plt\n",
        "from tabulate import tabulate\n",
        "\n",
        "device = torch.device('cuda:0' if torch.cuda.is_available() else 'cpu')\n",
        "torch.manual_seed(42)"
      ]
    },
    {
      "cell_type": "code",
      "execution_count": 36,
      "metadata": {
        "id": "jizKX4rYeqDa"
      },
      "outputs": [],
      "source": [
        "CROPPED_IMAGES_SIZE = 224\n",
        "N_CLASSES = 102\n",
        "BATCH_SIZE = 64\n",
        "LEARNING_RATE = 0.0001\n",
        "N_EPOCHS = 40"
      ]
    },
    {
      "cell_type": "code",
      "execution_count": 37,
      "metadata": {
        "id": "na-4B7TueSFU"
      },
      "outputs": [],
      "source": [
        "normalize_mean = np.array([0.485, 0.456, 0.406])\n",
        "normalize_std = np.array([0.229, 0.224, 0.225])\n",
        "\n",
        "\n",
        "# Training\n",
        "# transform_train = transforms.Compose([\n",
        "#   transforms.RandomRotation(45),\n",
        "#   transforms.RandomHorizontalFlip(),\n",
        "#   transforms.Resize((CROPPED_IMAGES_SIZE, CROPPED_IMAGES_SIZE)),\n",
        "#   transforms.ToTensor(),\n",
        "#   transforms.Normalize(normalize_mean, normalize_std)\n",
        "# ])\n",
        "transform_train = transforms.Compose([\n",
        "  transforms.RandomHorizontalFlip(p=0.5),\n",
        "  transforms.RandomVerticalFlip(p=0.5),\n",
        "  transforms.RandomRotation(180),\n",
        "  transforms.RandomResizedCrop(CROPPED_IMAGES_SIZE),\n",
        "  transforms.ToTensor(),\n",
        "  transforms.Normalize(normalize_mean, normalize_std)\n",
        "])\n",
        "dataset_train = datasets.Flowers102(root=\"dataset/train\", download=True, transform=transform_train)\n",
        "train_loader = torch.utils.data.DataLoader(dataset_train, batch_size=BATCH_SIZE, shuffle=True, num_workers=2)\n",
        "\n",
        "# Validation\n",
        "transform_validation = transforms.Compose([\n",
        "  transforms.Resize(256),\n",
        "  transforms.CenterCrop(CROPPED_IMAGES_SIZE),\n",
        "  transforms.ToTensor(),\n",
        "  transforms.Normalize(normalize_mean, normalize_std)\n",
        "])\n",
        "dataset_validation = datasets.Flowers102(root=\"dataset/validation\", download=True, transform=transform_validation, split=\"val\")\n",
        "validation_loader = torch.utils.data.DataLoader(dataset_validation, batch_size=BATCH_SIZE, shuffle=True, num_workers=2)\n",
        "\n",
        "# Test\n",
        "transform_test = transforms.Compose([\n",
        "  transforms.Resize(256),\n",
        "  transforms.CenterCrop(CROPPED_IMAGES_SIZE),\n",
        "  transforms.ToTensor(),\n",
        "  transforms.Normalize(normalize_mean, normalize_std)\n",
        "])\n",
        "\n",
        "dataset_test = datasets.Flowers102(root=\"dataset/test\", download=True, transform=transform_test, split=\"test\")\n",
        "test_loader = torch.utils.data.DataLoader(dataset_test, batch_size=BATCH_SIZE, shuffle=True, num_workers=2)\n"
      ]
    },
    {
      "cell_type": "code",
      "execution_count": 38,
      "metadata": {
        "colab": {
          "base_uri": "https://localhost:8080/"
        },
        "id": "r1nKx7Z_RUcC",
        "outputId": "c8fcef6d-990d-4ea3-f8fd-c77d1d867661"
      },
      "outputs": [
        {
          "data": {
            "text/plain": [
              "ResNet(\n",
              "  (conv1): Conv2d(3, 64, kernel_size=(7, 7), stride=(2, 2), padding=(3, 3), bias=False)\n",
              "  (bn1): BatchNorm2d(64, eps=1e-05, momentum=0.1, affine=True, track_running_stats=True)\n",
              "  (relu): ReLU(inplace=True)\n",
              "  (maxpool): MaxPool2d(kernel_size=3, stride=2, padding=1, dilation=1, ceil_mode=False)\n",
              "  (layer1): Sequential(\n",
              "    (0): Bottleneck(\n",
              "      (conv1): Conv2d(64, 64, kernel_size=(1, 1), stride=(1, 1), bias=False)\n",
              "      (bn1): BatchNorm2d(64, eps=1e-05, momentum=0.1, affine=True, track_running_stats=True)\n",
              "      (conv2): Conv2d(64, 64, kernel_size=(3, 3), stride=(1, 1), padding=(1, 1), bias=False)\n",
              "      (bn2): BatchNorm2d(64, eps=1e-05, momentum=0.1, affine=True, track_running_stats=True)\n",
              "      (conv3): Conv2d(64, 256, kernel_size=(1, 1), stride=(1, 1), bias=False)\n",
              "      (bn3): BatchNorm2d(256, eps=1e-05, momentum=0.1, affine=True, track_running_stats=True)\n",
              "      (relu): ReLU(inplace=True)\n",
              "      (downsample): Sequential(\n",
              "        (0): Conv2d(64, 256, kernel_size=(1, 1), stride=(1, 1), bias=False)\n",
              "        (1): BatchNorm2d(256, eps=1e-05, momentum=0.1, affine=True, track_running_stats=True)\n",
              "      )\n",
              "    )\n",
              "    (1): Bottleneck(\n",
              "      (conv1): Conv2d(256, 64, kernel_size=(1, 1), stride=(1, 1), bias=False)\n",
              "      (bn1): BatchNorm2d(64, eps=1e-05, momentum=0.1, affine=True, track_running_stats=True)\n",
              "      (conv2): Conv2d(64, 64, kernel_size=(3, 3), stride=(1, 1), padding=(1, 1), bias=False)\n",
              "      (bn2): BatchNorm2d(64, eps=1e-05, momentum=0.1, affine=True, track_running_stats=True)\n",
              "      (conv3): Conv2d(64, 256, kernel_size=(1, 1), stride=(1, 1), bias=False)\n",
              "      (bn3): BatchNorm2d(256, eps=1e-05, momentum=0.1, affine=True, track_running_stats=True)\n",
              "      (relu): ReLU(inplace=True)\n",
              "    )\n",
              "    (2): Bottleneck(\n",
              "      (conv1): Conv2d(256, 64, kernel_size=(1, 1), stride=(1, 1), bias=False)\n",
              "      (bn1): BatchNorm2d(64, eps=1e-05, momentum=0.1, affine=True, track_running_stats=True)\n",
              "      (conv2): Conv2d(64, 64, kernel_size=(3, 3), stride=(1, 1), padding=(1, 1), bias=False)\n",
              "      (bn2): BatchNorm2d(64, eps=1e-05, momentum=0.1, affine=True, track_running_stats=True)\n",
              "      (conv3): Conv2d(64, 256, kernel_size=(1, 1), stride=(1, 1), bias=False)\n",
              "      (bn3): BatchNorm2d(256, eps=1e-05, momentum=0.1, affine=True, track_running_stats=True)\n",
              "      (relu): ReLU(inplace=True)\n",
              "    )\n",
              "  )\n",
              "  (layer2): Sequential(\n",
              "    (0): Bottleneck(\n",
              "      (conv1): Conv2d(256, 128, kernel_size=(1, 1), stride=(1, 1), bias=False)\n",
              "      (bn1): BatchNorm2d(128, eps=1e-05, momentum=0.1, affine=True, track_running_stats=True)\n",
              "      (conv2): Conv2d(128, 128, kernel_size=(3, 3), stride=(2, 2), padding=(1, 1), bias=False)\n",
              "      (bn2): BatchNorm2d(128, eps=1e-05, momentum=0.1, affine=True, track_running_stats=True)\n",
              "      (conv3): Conv2d(128, 512, kernel_size=(1, 1), stride=(1, 1), bias=False)\n",
              "      (bn3): BatchNorm2d(512, eps=1e-05, momentum=0.1, affine=True, track_running_stats=True)\n",
              "      (relu): ReLU(inplace=True)\n",
              "      (downsample): Sequential(\n",
              "        (0): Conv2d(256, 512, kernel_size=(1, 1), stride=(2, 2), bias=False)\n",
              "        (1): BatchNorm2d(512, eps=1e-05, momentum=0.1, affine=True, track_running_stats=True)\n",
              "      )\n",
              "    )\n",
              "    (1): Bottleneck(\n",
              "      (conv1): Conv2d(512, 128, kernel_size=(1, 1), stride=(1, 1), bias=False)\n",
              "      (bn1): BatchNorm2d(128, eps=1e-05, momentum=0.1, affine=True, track_running_stats=True)\n",
              "      (conv2): Conv2d(128, 128, kernel_size=(3, 3), stride=(1, 1), padding=(1, 1), bias=False)\n",
              "      (bn2): BatchNorm2d(128, eps=1e-05, momentum=0.1, affine=True, track_running_stats=True)\n",
              "      (conv3): Conv2d(128, 512, kernel_size=(1, 1), stride=(1, 1), bias=False)\n",
              "      (bn3): BatchNorm2d(512, eps=1e-05, momentum=0.1, affine=True, track_running_stats=True)\n",
              "      (relu): ReLU(inplace=True)\n",
              "    )\n",
              "    (2): Bottleneck(\n",
              "      (conv1): Conv2d(512, 128, kernel_size=(1, 1), stride=(1, 1), bias=False)\n",
              "      (bn1): BatchNorm2d(128, eps=1e-05, momentum=0.1, affine=True, track_running_stats=True)\n",
              "      (conv2): Conv2d(128, 128, kernel_size=(3, 3), stride=(1, 1), padding=(1, 1), bias=False)\n",
              "      (bn2): BatchNorm2d(128, eps=1e-05, momentum=0.1, affine=True, track_running_stats=True)\n",
              "      (conv3): Conv2d(128, 512, kernel_size=(1, 1), stride=(1, 1), bias=False)\n",
              "      (bn3): BatchNorm2d(512, eps=1e-05, momentum=0.1, affine=True, track_running_stats=True)\n",
              "      (relu): ReLU(inplace=True)\n",
              "    )\n",
              "    (3): Bottleneck(\n",
              "      (conv1): Conv2d(512, 128, kernel_size=(1, 1), stride=(1, 1), bias=False)\n",
              "      (bn1): BatchNorm2d(128, eps=1e-05, momentum=0.1, affine=True, track_running_stats=True)\n",
              "      (conv2): Conv2d(128, 128, kernel_size=(3, 3), stride=(1, 1), padding=(1, 1), bias=False)\n",
              "      (bn2): BatchNorm2d(128, eps=1e-05, momentum=0.1, affine=True, track_running_stats=True)\n",
              "      (conv3): Conv2d(128, 512, kernel_size=(1, 1), stride=(1, 1), bias=False)\n",
              "      (bn3): BatchNorm2d(512, eps=1e-05, momentum=0.1, affine=True, track_running_stats=True)\n",
              "      (relu): ReLU(inplace=True)\n",
              "    )\n",
              "  )\n",
              "  (layer3): Sequential(\n",
              "    (0): Bottleneck(\n",
              "      (conv1): Conv2d(512, 256, kernel_size=(1, 1), stride=(1, 1), bias=False)\n",
              "      (bn1): BatchNorm2d(256, eps=1e-05, momentum=0.1, affine=True, track_running_stats=True)\n",
              "      (conv2): Conv2d(256, 256, kernel_size=(3, 3), stride=(2, 2), padding=(1, 1), bias=False)\n",
              "      (bn2): BatchNorm2d(256, eps=1e-05, momentum=0.1, affine=True, track_running_stats=True)\n",
              "      (conv3): Conv2d(256, 1024, kernel_size=(1, 1), stride=(1, 1), bias=False)\n",
              "      (bn3): BatchNorm2d(1024, eps=1e-05, momentum=0.1, affine=True, track_running_stats=True)\n",
              "      (relu): ReLU(inplace=True)\n",
              "      (downsample): Sequential(\n",
              "        (0): Conv2d(512, 1024, kernel_size=(1, 1), stride=(2, 2), bias=False)\n",
              "        (1): BatchNorm2d(1024, eps=1e-05, momentum=0.1, affine=True, track_running_stats=True)\n",
              "      )\n",
              "    )\n",
              "    (1): Bottleneck(\n",
              "      (conv1): Conv2d(1024, 256, kernel_size=(1, 1), stride=(1, 1), bias=False)\n",
              "      (bn1): BatchNorm2d(256, eps=1e-05, momentum=0.1, affine=True, track_running_stats=True)\n",
              "      (conv2): Conv2d(256, 256, kernel_size=(3, 3), stride=(1, 1), padding=(1, 1), bias=False)\n",
              "      (bn2): BatchNorm2d(256, eps=1e-05, momentum=0.1, affine=True, track_running_stats=True)\n",
              "      (conv3): Conv2d(256, 1024, kernel_size=(1, 1), stride=(1, 1), bias=False)\n",
              "      (bn3): BatchNorm2d(1024, eps=1e-05, momentum=0.1, affine=True, track_running_stats=True)\n",
              "      (relu): ReLU(inplace=True)\n",
              "    )\n",
              "    (2): Bottleneck(\n",
              "      (conv1): Conv2d(1024, 256, kernel_size=(1, 1), stride=(1, 1), bias=False)\n",
              "      (bn1): BatchNorm2d(256, eps=1e-05, momentum=0.1, affine=True, track_running_stats=True)\n",
              "      (conv2): Conv2d(256, 256, kernel_size=(3, 3), stride=(1, 1), padding=(1, 1), bias=False)\n",
              "      (bn2): BatchNorm2d(256, eps=1e-05, momentum=0.1, affine=True, track_running_stats=True)\n",
              "      (conv3): Conv2d(256, 1024, kernel_size=(1, 1), stride=(1, 1), bias=False)\n",
              "      (bn3): BatchNorm2d(1024, eps=1e-05, momentum=0.1, affine=True, track_running_stats=True)\n",
              "      (relu): ReLU(inplace=True)\n",
              "    )\n",
              "    (3): Bottleneck(\n",
              "      (conv1): Conv2d(1024, 256, kernel_size=(1, 1), stride=(1, 1), bias=False)\n",
              "      (bn1): BatchNorm2d(256, eps=1e-05, momentum=0.1, affine=True, track_running_stats=True)\n",
              "      (conv2): Conv2d(256, 256, kernel_size=(3, 3), stride=(1, 1), padding=(1, 1), bias=False)\n",
              "      (bn2): BatchNorm2d(256, eps=1e-05, momentum=0.1, affine=True, track_running_stats=True)\n",
              "      (conv3): Conv2d(256, 1024, kernel_size=(1, 1), stride=(1, 1), bias=False)\n",
              "      (bn3): BatchNorm2d(1024, eps=1e-05, momentum=0.1, affine=True, track_running_stats=True)\n",
              "      (relu): ReLU(inplace=True)\n",
              "    )\n",
              "    (4): Bottleneck(\n",
              "      (conv1): Conv2d(1024, 256, kernel_size=(1, 1), stride=(1, 1), bias=False)\n",
              "      (bn1): BatchNorm2d(256, eps=1e-05, momentum=0.1, affine=True, track_running_stats=True)\n",
              "      (conv2): Conv2d(256, 256, kernel_size=(3, 3), stride=(1, 1), padding=(1, 1), bias=False)\n",
              "      (bn2): BatchNorm2d(256, eps=1e-05, momentum=0.1, affine=True, track_running_stats=True)\n",
              "      (conv3): Conv2d(256, 1024, kernel_size=(1, 1), stride=(1, 1), bias=False)\n",
              "      (bn3): BatchNorm2d(1024, eps=1e-05, momentum=0.1, affine=True, track_running_stats=True)\n",
              "      (relu): ReLU(inplace=True)\n",
              "    )\n",
              "    (5): Bottleneck(\n",
              "      (conv1): Conv2d(1024, 256, kernel_size=(1, 1), stride=(1, 1), bias=False)\n",
              "      (bn1): BatchNorm2d(256, eps=1e-05, momentum=0.1, affine=True, track_running_stats=True)\n",
              "      (conv2): Conv2d(256, 256, kernel_size=(3, 3), stride=(1, 1), padding=(1, 1), bias=False)\n",
              "      (bn2): BatchNorm2d(256, eps=1e-05, momentum=0.1, affine=True, track_running_stats=True)\n",
              "      (conv3): Conv2d(256, 1024, kernel_size=(1, 1), stride=(1, 1), bias=False)\n",
              "      (bn3): BatchNorm2d(1024, eps=1e-05, momentum=0.1, affine=True, track_running_stats=True)\n",
              "      (relu): ReLU(inplace=True)\n",
              "    )\n",
              "  )\n",
              "  (layer4): Sequential(\n",
              "    (0): Bottleneck(\n",
              "      (conv1): Conv2d(1024, 512, kernel_size=(1, 1), stride=(1, 1), bias=False)\n",
              "      (bn1): BatchNorm2d(512, eps=1e-05, momentum=0.1, affine=True, track_running_stats=True)\n",
              "      (conv2): Conv2d(512, 512, kernel_size=(3, 3), stride=(2, 2), padding=(1, 1), bias=False)\n",
              "      (bn2): BatchNorm2d(512, eps=1e-05, momentum=0.1, affine=True, track_running_stats=True)\n",
              "      (conv3): Conv2d(512, 2048, kernel_size=(1, 1), stride=(1, 1), bias=False)\n",
              "      (bn3): BatchNorm2d(2048, eps=1e-05, momentum=0.1, affine=True, track_running_stats=True)\n",
              "      (relu): ReLU(inplace=True)\n",
              "      (downsample): Sequential(\n",
              "        (0): Conv2d(1024, 2048, kernel_size=(1, 1), stride=(2, 2), bias=False)\n",
              "        (1): BatchNorm2d(2048, eps=1e-05, momentum=0.1, affine=True, track_running_stats=True)\n",
              "      )\n",
              "    )\n",
              "    (1): Bottleneck(\n",
              "      (conv1): Conv2d(2048, 512, kernel_size=(1, 1), stride=(1, 1), bias=False)\n",
              "      (bn1): BatchNorm2d(512, eps=1e-05, momentum=0.1, affine=True, track_running_stats=True)\n",
              "      (conv2): Conv2d(512, 512, kernel_size=(3, 3), stride=(1, 1), padding=(1, 1), bias=False)\n",
              "      (bn2): BatchNorm2d(512, eps=1e-05, momentum=0.1, affine=True, track_running_stats=True)\n",
              "      (conv3): Conv2d(512, 2048, kernel_size=(1, 1), stride=(1, 1), bias=False)\n",
              "      (bn3): BatchNorm2d(2048, eps=1e-05, momentum=0.1, affine=True, track_running_stats=True)\n",
              "      (relu): ReLU(inplace=True)\n",
              "    )\n",
              "    (2): Bottleneck(\n",
              "      (conv1): Conv2d(2048, 512, kernel_size=(1, 1), stride=(1, 1), bias=False)\n",
              "      (bn1): BatchNorm2d(512, eps=1e-05, momentum=0.1, affine=True, track_running_stats=True)\n",
              "      (conv2): Conv2d(512, 512, kernel_size=(3, 3), stride=(1, 1), padding=(1, 1), bias=False)\n",
              "      (bn2): BatchNorm2d(512, eps=1e-05, momentum=0.1, affine=True, track_running_stats=True)\n",
              "      (conv3): Conv2d(512, 2048, kernel_size=(1, 1), stride=(1, 1), bias=False)\n",
              "      (bn3): BatchNorm2d(2048, eps=1e-05, momentum=0.1, affine=True, track_running_stats=True)\n",
              "      (relu): ReLU(inplace=True)\n",
              "    )\n",
              "  )\n",
              "  (avgpool): AdaptiveAvgPool2d(output_size=(1, 1))\n",
              "  (fc): Sequential(\n",
              "    (0): Linear(in_features=2048, out_features=512, bias=True)\n",
              "    (1): ReLU()\n",
              "    (2): Dropout(p=0.2, inplace=False)\n",
              "    (3): Linear(in_features=512, out_features=102, bias=True)\n",
              "    (4): LogSoftmax(dim=1)\n",
              "  )\n",
              ")"
            ]
          },
          "execution_count": 38,
          "metadata": {},
          "output_type": "execute_result"
        }
      ],
      "source": [
        "# Download the model\n",
        "# model = models.resnet18(weights='ResNet18_Weights.DEFAULT')\n",
        "# Replace the model classifier\n",
        "# classifier = nn.Sequential(nn.Linear(512, 256),\n",
        "#                         nn.ReLU(),\n",
        "#                         nn.Dropout(p=0.2),\n",
        "#                         nn.Linear(256, 102),\n",
        "#                         nn.LogSoftmax(dim=1)\n",
        "#                         )\n",
        "\n",
        "model = models.resnet50(weights='ResNet50_Weights.DEFAULT')\n",
        "classifier = nn.Sequential(nn.Linear(2048, 512),\n",
        "                        nn.ReLU(),\n",
        "                        nn.Dropout(p=0.2),\n",
        "                        nn.Linear(512, 102),\n",
        "                        nn.LogSoftmax(dim=1)\n",
        "                        )\n",
        "\n",
        "# model = models.resnet152(weights='ResNet152_Weights.DEFAULT')\n",
        "# classifier = nn.Sequential(nn.Linear(2048, 1024),\n",
        "#                         nn.ReLU(),\n",
        "#                         nn.Dropout(p=0.2),\n",
        "#                         nn.Linear(1024, 102),\n",
        "#                         nn.LogSoftmax(dim=1)\n",
        "#                         )\n",
        "\n",
        "model.fc = classifier\n",
        "\n",
        "# Move model to device\n",
        "model.to(device)"
      ]
    },
    {
      "cell_type": "code",
      "execution_count": 39,
      "metadata": {
        "colab": {
          "base_uri": "https://localhost:8080/"
        },
        "id": "iwS8EpAIgVPF",
        "outputId": "623cd297-b98d-486f-cc5d-8e6a12dca725"
      },
      "outputs": [
        {
          "name": "stderr",
          "output_type": "stream",
          "text": [
            "100%|██████████| 16/16 [00:12<00:00,  1.33batch/s]\n"
          ]
        },
        {
          "name": "stdout",
          "output_type": "stream",
          "text": [
            "Epoch 1, loss: 73.7702784538269, lr: 0.0001\n",
            "Accuracy: 78/1020 = 7.65%\n"
          ]
        },
        {
          "name": "stderr",
          "output_type": "stream",
          "text": [
            "100%|██████████| 16/16 [00:11<00:00,  1.35batch/s]\n"
          ]
        },
        {
          "name": "stdout",
          "output_type": "stream",
          "text": [
            "Epoch 2, loss: 72.11170959472656, lr: 0.0001\n",
            "Accuracy: 268/1020 = 26.27%\n"
          ]
        },
        {
          "name": "stderr",
          "output_type": "stream",
          "text": [
            "100%|██████████| 16/16 [00:12<00:00,  1.31batch/s]\n"
          ]
        },
        {
          "name": "stdout",
          "output_type": "stream",
          "text": [
            "Epoch 3, loss: 67.4869978427887, lr: 0.0001\n",
            "Accuracy: 386/1020 = 37.84%\n"
          ]
        },
        {
          "name": "stderr",
          "output_type": "stream",
          "text": [
            "100%|██████████| 16/16 [00:12<00:00,  1.32batch/s]\n"
          ]
        },
        {
          "name": "stdout",
          "output_type": "stream",
          "text": [
            "Epoch 4, loss: 57.490894079208374, lr: 0.0001\n",
            "Accuracy: 534/1020 = 52.35%\n"
          ]
        },
        {
          "name": "stderr",
          "output_type": "stream",
          "text": [
            "100%|██████████| 16/16 [00:11<00:00,  1.35batch/s]\n"
          ]
        },
        {
          "name": "stdout",
          "output_type": "stream",
          "text": [
            "Epoch 5, loss: 43.895432472229004, lr: 0.0001\n",
            "Accuracy: 663/1020 = 65.00%\n"
          ]
        },
        {
          "name": "stderr",
          "output_type": "stream",
          "text": [
            "100%|██████████| 16/16 [00:11<00:00,  1.35batch/s]\n"
          ]
        },
        {
          "name": "stdout",
          "output_type": "stream",
          "text": [
            "Epoch 6, loss: 31.42710053920746, lr: 0.0001\n",
            "Accuracy: 764/1020 = 74.90%\n"
          ]
        },
        {
          "name": "stderr",
          "output_type": "stream",
          "text": [
            "100%|██████████| 16/16 [00:12<00:00,  1.33batch/s]\n"
          ]
        },
        {
          "name": "stdout",
          "output_type": "stream",
          "text": [
            "Epoch 7, loss: 21.042168378829956, lr: 0.0001\n",
            "Accuracy: 846/1020 = 82.94%\n"
          ]
        },
        {
          "name": "stderr",
          "output_type": "stream",
          "text": [
            "100%|██████████| 16/16 [00:12<00:00,  1.33batch/s]\n"
          ]
        },
        {
          "name": "stdout",
          "output_type": "stream",
          "text": [
            "Epoch 8, loss: 15.392122864723206, lr: 0.0001\n",
            "Accuracy: 857/1020 = 84.02%\n"
          ]
        },
        {
          "name": "stderr",
          "output_type": "stream",
          "text": [
            "100%|██████████| 16/16 [00:12<00:00,  1.26batch/s]\n"
          ]
        },
        {
          "name": "stdout",
          "output_type": "stream",
          "text": [
            "Epoch 9, loss: 11.640070021152496, lr: 0.0001\n",
            "Accuracy: 882/1020 = 86.47%\n"
          ]
        },
        {
          "name": "stderr",
          "output_type": "stream",
          "text": [
            "100%|██████████| 16/16 [00:11<00:00,  1.34batch/s]\n"
          ]
        },
        {
          "name": "stdout",
          "output_type": "stream",
          "text": [
            "Epoch 10, loss: 8.724350541830063, lr: 0.0001\n",
            "Accuracy: 895/1020 = 87.75%\n"
          ]
        },
        {
          "name": "stderr",
          "output_type": "stream",
          "text": [
            "100%|██████████| 16/16 [00:12<00:00,  1.33batch/s]\n"
          ]
        },
        {
          "name": "stdout",
          "output_type": "stream",
          "text": [
            "Epoch 11, loss: 6.570531338453293, lr: 0.0001\n",
            "Accuracy: 920/1020 = 90.20%\n"
          ]
        },
        {
          "name": "stderr",
          "output_type": "stream",
          "text": [
            "100%|██████████| 16/16 [00:11<00:00,  1.34batch/s]\n"
          ]
        },
        {
          "name": "stdout",
          "output_type": "stream",
          "text": [
            "Epoch 12, loss: 6.457452401518822, lr: 0.0001\n",
            "Accuracy: 909/1020 = 89.12%\n"
          ]
        },
        {
          "name": "stderr",
          "output_type": "stream",
          "text": [
            "100%|██████████| 16/16 [00:11<00:00,  1.34batch/s]\n"
          ]
        },
        {
          "name": "stdout",
          "output_type": "stream",
          "text": [
            "Epoch 13, loss: 5.552673161029816, lr: 0.0001\n",
            "Accuracy: 918/1020 = 90.00%\n"
          ]
        },
        {
          "name": "stderr",
          "output_type": "stream",
          "text": [
            "100%|██████████| 16/16 [00:12<00:00,  1.31batch/s]\n"
          ]
        },
        {
          "name": "stdout",
          "output_type": "stream",
          "text": [
            "Epoch 14, loss: 4.716696545481682, lr: 0.0001\n",
            "Accuracy: 922/1020 = 90.39%\n"
          ]
        },
        {
          "name": "stderr",
          "output_type": "stream",
          "text": [
            "100%|██████████| 16/16 [00:12<00:00,  1.32batch/s]\n"
          ]
        },
        {
          "name": "stdout",
          "output_type": "stream",
          "text": [
            "Epoch 15, loss: 4.5405828058719635, lr: 0.0001\n",
            "Accuracy: 923/1020 = 90.49%\n"
          ]
        },
        {
          "name": "stderr",
          "output_type": "stream",
          "text": [
            "100%|██████████| 16/16 [00:12<00:00,  1.32batch/s]\n"
          ]
        },
        {
          "name": "stdout",
          "output_type": "stream",
          "text": [
            "Epoch 16, loss: 3.431905321776867, lr: 0.0001\n",
            "Accuracy: 929/1020 = 91.08%\n"
          ]
        },
        {
          "name": "stderr",
          "output_type": "stream",
          "text": [
            "100%|██████████| 16/16 [00:12<00:00,  1.32batch/s]\n"
          ]
        },
        {
          "name": "stdout",
          "output_type": "stream",
          "text": [
            "Epoch 17, loss: 4.038203299045563, lr: 0.0001\n",
            "Accuracy: 927/1020 = 90.88%\n"
          ]
        },
        {
          "name": "stderr",
          "output_type": "stream",
          "text": [
            "100%|██████████| 16/16 [00:12<00:00,  1.32batch/s]\n"
          ]
        },
        {
          "name": "stdout",
          "output_type": "stream",
          "text": [
            "Epoch 18, loss: 3.86802376806736, lr: 0.0001\n",
            "Accuracy: 934/1020 = 91.57%\n"
          ]
        },
        {
          "name": "stderr",
          "output_type": "stream",
          "text": [
            "100%|██████████| 16/16 [00:11<00:00,  1.34batch/s]\n"
          ]
        },
        {
          "name": "stdout",
          "output_type": "stream",
          "text": [
            "Epoch 19, loss: 3.5586897283792496, lr: 0.0001\n",
            "Accuracy: 927/1020 = 90.88%\n"
          ]
        },
        {
          "name": "stderr",
          "output_type": "stream",
          "text": [
            "100%|██████████| 16/16 [00:11<00:00,  1.34batch/s]\n"
          ]
        },
        {
          "name": "stdout",
          "output_type": "stream",
          "text": [
            "Epoch 20, loss: 3.0219541490077972, lr: 1e-05\n",
            "Accuracy: 933/1020 = 91.47%\n"
          ]
        },
        {
          "name": "stderr",
          "output_type": "stream",
          "text": [
            "100%|██████████| 16/16 [00:11<00:00,  1.34batch/s]\n"
          ]
        },
        {
          "name": "stdout",
          "output_type": "stream",
          "text": [
            "Epoch 21, loss: 3.055841848254204, lr: 1e-05\n",
            "Accuracy: 932/1020 = 91.37%\n"
          ]
        },
        {
          "name": "stderr",
          "output_type": "stream",
          "text": [
            "100%|██████████| 16/16 [00:12<00:00,  1.33batch/s]\n"
          ]
        },
        {
          "name": "stdout",
          "output_type": "stream",
          "text": [
            "Epoch 22, loss: 3.9040060192346573, lr: 1e-05\n",
            "Accuracy: 934/1020 = 91.57%\n"
          ]
        },
        {
          "name": "stderr",
          "output_type": "stream",
          "text": [
            "100%|██████████| 16/16 [00:11<00:00,  1.34batch/s]\n"
          ]
        },
        {
          "name": "stdout",
          "output_type": "stream",
          "text": [
            "Epoch 23, loss: 3.2636860832571983, lr: 1e-05\n",
            "Accuracy: 935/1020 = 91.67%\n"
          ]
        },
        {
          "name": "stderr",
          "output_type": "stream",
          "text": [
            "100%|██████████| 16/16 [00:12<00:00,  1.24batch/s]\n"
          ]
        },
        {
          "name": "stdout",
          "output_type": "stream",
          "text": [
            "Epoch 24, loss: 2.772924728691578, lr: 1e-05\n",
            "Accuracy: 939/1020 = 92.06%\n"
          ]
        },
        {
          "name": "stderr",
          "output_type": "stream",
          "text": [
            "100%|██████████| 16/16 [00:13<00:00,  1.20batch/s]\n"
          ]
        },
        {
          "name": "stdout",
          "output_type": "stream",
          "text": [
            "Epoch 25, loss: 2.741037029772997, lr: 1e-05\n",
            "Accuracy: 939/1020 = 92.06%\n"
          ]
        },
        {
          "name": "stderr",
          "output_type": "stream",
          "text": [
            "100%|██████████| 16/16 [00:13<00:00,  1.18batch/s]\n"
          ]
        },
        {
          "name": "stdout",
          "output_type": "stream",
          "text": [
            "Epoch 26, loss: 2.158935822546482, lr: 1e-05\n",
            "Accuracy: 943/1020 = 92.45%\n"
          ]
        },
        {
          "name": "stderr",
          "output_type": "stream",
          "text": [
            "100%|██████████| 16/16 [00:11<00:00,  1.33batch/s]\n"
          ]
        },
        {
          "name": "stdout",
          "output_type": "stream",
          "text": [
            "Epoch 27, loss: 2.0577730648219585, lr: 1e-05\n",
            "Accuracy: 943/1020 = 92.45%\n"
          ]
        },
        {
          "name": "stderr",
          "output_type": "stream",
          "text": [
            "100%|██████████| 16/16 [00:12<00:00,  1.29batch/s]\n"
          ]
        },
        {
          "name": "stdout",
          "output_type": "stream",
          "text": [
            "Epoch 28, loss: 2.992121711373329, lr: 1e-05\n",
            "Accuracy: 944/1020 = 92.55%\n"
          ]
        },
        {
          "name": "stderr",
          "output_type": "stream",
          "text": [
            "100%|██████████| 16/16 [00:13<00:00,  1.21batch/s]\n"
          ]
        },
        {
          "name": "stdout",
          "output_type": "stream",
          "text": [
            "Epoch 29, loss: 2.4469929337501526, lr: 1e-05\n",
            "Accuracy: 944/1020 = 92.55%\n"
          ]
        },
        {
          "name": "stderr",
          "output_type": "stream",
          "text": [
            "100%|██████████| 16/16 [00:13<00:00,  1.19batch/s]\n"
          ]
        },
        {
          "name": "stdout",
          "output_type": "stream",
          "text": [
            "Epoch 30, loss: 2.5749445110559464, lr: 1e-05\n",
            "Accuracy: 943/1020 = 92.45%\n"
          ]
        },
        {
          "name": "stderr",
          "output_type": "stream",
          "text": [
            "100%|██████████| 16/16 [00:13<00:00,  1.21batch/s]\n"
          ]
        },
        {
          "name": "stdout",
          "output_type": "stream",
          "text": [
            "Epoch 31, loss: 1.7362560257315636, lr: 1e-05\n",
            "Accuracy: 944/1020 = 92.55%\n"
          ]
        },
        {
          "name": "stderr",
          "output_type": "stream",
          "text": [
            "100%|██████████| 16/16 [00:12<00:00,  1.33batch/s]\n"
          ]
        },
        {
          "name": "stdout",
          "output_type": "stream",
          "text": [
            "Epoch 32, loss: 2.0105949118733406, lr: 1e-05\n",
            "Accuracy: 943/1020 = 92.45%\n"
          ]
        },
        {
          "name": "stderr",
          "output_type": "stream",
          "text": [
            "100%|██████████| 16/16 [00:14<00:00,  1.13batch/s]\n"
          ]
        },
        {
          "name": "stdout",
          "output_type": "stream",
          "text": [
            "Epoch 33, loss: 2.208995819091797, lr: 1e-05\n",
            "Accuracy: 940/1020 = 92.16%\n"
          ]
        },
        {
          "name": "stderr",
          "output_type": "stream",
          "text": [
            "100%|██████████| 16/16 [00:12<00:00,  1.32batch/s]\n"
          ]
        },
        {
          "name": "stdout",
          "output_type": "stream",
          "text": [
            "Epoch 34, loss: 2.369050722569227, lr: 1e-05\n",
            "Accuracy: 942/1020 = 92.35%\n"
          ]
        },
        {
          "name": "stderr",
          "output_type": "stream",
          "text": [
            "100%|██████████| 16/16 [00:12<00:00,  1.26batch/s]\n"
          ]
        },
        {
          "name": "stdout",
          "output_type": "stream",
          "text": [
            "Epoch 35, loss: 2.262709517031908, lr: 1e-05\n",
            "Accuracy: 946/1020 = 92.75%\n"
          ]
        },
        {
          "name": "stderr",
          "output_type": "stream",
          "text": [
            "100%|██████████| 16/16 [00:12<00:00,  1.31batch/s]\n"
          ]
        },
        {
          "name": "stdout",
          "output_type": "stream",
          "text": [
            "Epoch 36, loss: 2.7734922245144844, lr: 1e-05\n",
            "Accuracy: 944/1020 = 92.55%\n"
          ]
        },
        {
          "name": "stderr",
          "output_type": "stream",
          "text": [
            "100%|██████████| 16/16 [00:12<00:00,  1.32batch/s]\n"
          ]
        },
        {
          "name": "stdout",
          "output_type": "stream",
          "text": [
            "Epoch 37, loss: 2.571748446673155, lr: 1e-05\n",
            "Accuracy: 946/1020 = 92.75%\n"
          ]
        },
        {
          "name": "stderr",
          "output_type": "stream",
          "text": [
            "100%|██████████| 16/16 [00:12<00:00,  1.23batch/s]\n"
          ]
        },
        {
          "name": "stdout",
          "output_type": "stream",
          "text": [
            "Epoch 38, loss: 2.3326503187417984, lr: 1e-05\n",
            "Accuracy: 946/1020 = 92.75%\n"
          ]
        },
        {
          "name": "stderr",
          "output_type": "stream",
          "text": [
            "100%|██████████| 16/16 [00:12<00:00,  1.32batch/s]\n"
          ]
        },
        {
          "name": "stdout",
          "output_type": "stream",
          "text": [
            "Epoch 39, loss: 2.230727653950453, lr: 1e-05\n",
            "Accuracy: 946/1020 = 92.75%\n"
          ]
        },
        {
          "name": "stderr",
          "output_type": "stream",
          "text": [
            "100%|██████████| 16/16 [00:12<00:00,  1.32batch/s]\n"
          ]
        },
        {
          "name": "stdout",
          "output_type": "stream",
          "text": [
            "Epoch 40, loss: 2.2911267802119255, lr: 1.0000000000000002e-06\n",
            "Accuracy: 944/1020 = 92.55%\n",
            "Finished Training\n"
          ]
        }
      ],
      "source": [
        "def check_accuracy(data_loader, model):\n",
        "    n_corrects = 0\n",
        "    n_samples = 0\n",
        "    model.eval()\n",
        "\n",
        "    with torch.no_grad():\n",
        "        for x, y in data_loader:\n",
        "            # Sending data to device\n",
        "            x = x.to(device)\n",
        "            y = y.to(device)\n",
        "\n",
        "            # Forward propagation\n",
        "            y_hat = model(x)\n",
        "\n",
        "            # Calculate accuracy\n",
        "            _, predictions = y_hat.max(1)\n",
        "            n_corrects += (predictions == y).sum()\n",
        "            n_samples += predictions.size(0)\n",
        "\n",
        "        perc = (n_corrects.item() / n_samples) * 100\n",
        "        return (n_corrects.item(), n_samples, perc)\n",
        "\n",
        "criterion = nn.CrossEntropyLoss()\n",
        "optimizer = optim.Adam(model.parameters(), lr=LEARNING_RATE)\n",
        "scheduler = optim.lr_scheduler.StepLR(optimizer, step_size=20, gamma=0.1)\n",
        "\n",
        "training_results_data = pd.DataFrame(\n",
        "    {\"Epoch\": [], \"Predictions\": [], \"Samples\": [], \"Accuracy\": [], \"Loss\": []}\n",
        ")\n",
        "\n",
        "# Tensorboard writer\n",
        "writer = SummaryWriter()\n",
        "\n",
        "for epoch in range(N_EPOCHS):  # loop over the dataset multiple times\n",
        "    running_loss = 0.0\n",
        "    model.train()\n",
        "    with tqdm.tqdm(train_loader, unit=\"batch\") as tepoch:\n",
        "      for i, data in enumerate(tepoch):\n",
        "          # get the inputs; data is a list of [inputs, labels]\n",
        "          inputs, labels = data\n",
        "          inputs = inputs.to(device)\n",
        "          labels = labels.to(device)\n",
        "\n",
        "          # zero the parameter gradients\n",
        "          optimizer.zero_grad()\n",
        "\n",
        "          # forward + backward + optimize\n",
        "          outputs = model(inputs)\n",
        "          loss = criterion(outputs, labels)\n",
        "          loss.backward()\n",
        "          optimizer.step()\n",
        "          \n",
        "\n",
        "          # print statistics\n",
        "          running_loss += loss.item()\n",
        "    scheduler.step()\n",
        "    current_lr = optimizer.state_dict()['param_groups'][0]['lr']\n",
        "    n_corrects, n_samples, accuracy = check_accuracy(validation_loader, model)\n",
        "    training_results_data.loc[len(training_results_data.index)] = [\n",
        "        int(epoch + 1),\n",
        "        int(n_corrects),\n",
        "        int(n_samples),\n",
        "        accuracy,\n",
        "        running_loss,\n",
        "    ]\n",
        "    writer.add_scalar(\"Loss/train\", running_loss, epoch)\n",
        "    writer.add_scalar('Accuracy/validation', accuracy, epoch)\n",
        "    print(f\"Epoch {epoch + 1}, loss: {running_loss}, lr: {current_lr}\")\n",
        "    print(f\"Accuracy: {n_corrects}/{n_samples} = {accuracy:.2f}%\")\n",
        "    \n",
        "writer.flush()\n",
        "print('Finished Training')\n",
        "\n",
        "torch.save(model.state_dict(), 'model.pt')"
      ]
    },
    {
      "cell_type": "code",
      "execution_count": 43,
      "metadata": {
        "colab": {
          "base_uri": "https://localhost:8080/",
          "height": 1000
        },
        "id": "-mERX70sgO2O",
        "outputId": "762941fa-9153-4493-d0c0-82aa7f7b7e2a"
      },
      "outputs": [
        {
          "name": "stdout",
          "output_type": "stream",
          "text": [
            "Training/Validation results\n",
            "╒═════════╤═══════════════════════╤════════════╤══════════╕\n",
            "│   Epoch │ Predictions/Samples   │ Accuracy   │     Loss │\n",
            "╞═════════╪═══════════════════════╪════════════╪══════════╡\n",
            "│       1 │ 78/1020               │ 7.65%      │ 73.7703  │\n",
            "├─────────┼───────────────────────┼────────────┼──────────┤\n",
            "│       2 │ 268/1020              │ 26.27%     │ 72.1117  │\n",
            "├─────────┼───────────────────────┼────────────┼──────────┤\n",
            "│       3 │ 386/1020              │ 37.84%     │ 67.487   │\n",
            "├─────────┼───────────────────────┼────────────┼──────────┤\n",
            "│       4 │ 534/1020              │ 52.35%     │ 57.4909  │\n",
            "├─────────┼───────────────────────┼────────────┼──────────┤\n",
            "│       5 │ 663/1020              │ 65.00%     │ 43.8954  │\n",
            "├─────────┼───────────────────────┼────────────┼──────────┤\n",
            "│       6 │ 764/1020              │ 74.90%     │ 31.4271  │\n",
            "├─────────┼───────────────────────┼────────────┼──────────┤\n",
            "│       7 │ 846/1020              │ 82.94%     │ 21.0422  │\n",
            "├─────────┼───────────────────────┼────────────┼──────────┤\n",
            "│       8 │ 857/1020              │ 84.02%     │ 15.3921  │\n",
            "├─────────┼───────────────────────┼────────────┼──────────┤\n",
            "│       9 │ 882/1020              │ 86.47%     │ 11.6401  │\n",
            "├─────────┼───────────────────────┼────────────┼──────────┤\n",
            "│      10 │ 895/1020              │ 87.75%     │  8.72435 │\n",
            "├─────────┼───────────────────────┼────────────┼──────────┤\n",
            "│      11 │ 920/1020              │ 90.20%     │  6.57053 │\n",
            "├─────────┼───────────────────────┼────────────┼──────────┤\n",
            "│      12 │ 909/1020              │ 89.12%     │  6.45745 │\n",
            "├─────────┼───────────────────────┼────────────┼──────────┤\n",
            "│      13 │ 918/1020              │ 90.00%     │  5.55267 │\n",
            "├─────────┼───────────────────────┼────────────┼──────────┤\n",
            "│      14 │ 922/1020              │ 90.39%     │  4.7167  │\n",
            "├─────────┼───────────────────────┼────────────┼──────────┤\n",
            "│      15 │ 923/1020              │ 90.49%     │  4.54058 │\n",
            "├─────────┼───────────────────────┼────────────┼──────────┤\n",
            "│      16 │ 929/1020              │ 91.08%     │  3.43191 │\n",
            "├─────────┼───────────────────────┼────────────┼──────────┤\n",
            "│      17 │ 927/1020              │ 90.88%     │  4.0382  │\n",
            "├─────────┼───────────────────────┼────────────┼──────────┤\n",
            "│      18 │ 934/1020              │ 91.57%     │  3.86802 │\n",
            "├─────────┼───────────────────────┼────────────┼──────────┤\n",
            "│      19 │ 927/1020              │ 90.88%     │  3.55869 │\n",
            "├─────────┼───────────────────────┼────────────┼──────────┤\n",
            "│      20 │ 933/1020              │ 91.47%     │  3.02195 │\n",
            "├─────────┼───────────────────────┼────────────┼──────────┤\n",
            "│      21 │ 932/1020              │ 91.37%     │  3.05584 │\n",
            "├─────────┼───────────────────────┼────────────┼──────────┤\n",
            "│      22 │ 934/1020              │ 91.57%     │  3.90401 │\n",
            "├─────────┼───────────────────────┼────────────┼──────────┤\n",
            "│      23 │ 935/1020              │ 91.67%     │  3.26369 │\n",
            "├─────────┼───────────────────────┼────────────┼──────────┤\n",
            "│      24 │ 939/1020              │ 92.06%     │  2.77292 │\n",
            "├─────────┼───────────────────────┼────────────┼──────────┤\n",
            "│      25 │ 939/1020              │ 92.06%     │  2.74104 │\n",
            "├─────────┼───────────────────────┼────────────┼──────────┤\n",
            "│      26 │ 943/1020              │ 92.45%     │  2.15894 │\n",
            "├─────────┼───────────────────────┼────────────┼──────────┤\n",
            "│      27 │ 943/1020              │ 92.45%     │  2.05777 │\n",
            "├─────────┼───────────────────────┼────────────┼──────────┤\n",
            "│      28 │ 944/1020              │ 92.55%     │  2.99212 │\n",
            "├─────────┼───────────────────────┼────────────┼──────────┤\n",
            "│      29 │ 944/1020              │ 92.55%     │  2.44699 │\n",
            "├─────────┼───────────────────────┼────────────┼──────────┤\n",
            "│      30 │ 943/1020              │ 92.45%     │  2.57494 │\n",
            "├─────────┼───────────────────────┼────────────┼──────────┤\n",
            "│      31 │ 944/1020              │ 92.55%     │  1.73626 │\n",
            "├─────────┼───────────────────────┼────────────┼──────────┤\n",
            "│      32 │ 943/1020              │ 92.45%     │  2.01059 │\n",
            "├─────────┼───────────────────────┼────────────┼──────────┤\n",
            "│      33 │ 940/1020              │ 92.16%     │  2.209   │\n",
            "├─────────┼───────────────────────┼────────────┼──────────┤\n",
            "│      34 │ 942/1020              │ 92.35%     │  2.36905 │\n",
            "├─────────┼───────────────────────┼────────────┼──────────┤\n",
            "│      35 │ 946/1020              │ 92.75%     │  2.26271 │\n",
            "├─────────┼───────────────────────┼────────────┼──────────┤\n",
            "│      36 │ 944/1020              │ 92.55%     │  2.77349 │\n",
            "├─────────┼───────────────────────┼────────────┼──────────┤\n",
            "│      37 │ 946/1020              │ 92.75%     │  2.57175 │\n",
            "├─────────┼───────────────────────┼────────────┼──────────┤\n",
            "│      38 │ 946/1020              │ 92.75%     │  2.33265 │\n",
            "├─────────┼───────────────────────┼────────────┼──────────┤\n",
            "│      39 │ 946/1020              │ 92.75%     │  2.23073 │\n",
            "├─────────┼───────────────────────┼────────────┼──────────┤\n",
            "│      40 │ 944/1020              │ 92.55%     │  2.29113 │\n",
            "╘═════════╧═══════════════════════╧════════════╧══════════╛\n"
          ]
        },
        {
          "data": {
            "image/png": "[encoded data removed]",
            "text/plain": [
              "<Figure size 432x288 with 1 Axes>"
            ]
          },
          "metadata": {
            "needs_background": "light"
          },
          "output_type": "display_data"
        },
        {
          "data": {
            "image/png": "[encoded data removed]",
            "text/plain": [
              "<Figure size 432x288 with 1 Axes>"
            ]
          },
          "metadata": {
            "needs_background": "light"
          },
          "output_type": "display_data"
        },
        {
          "name": "stdout",
          "output_type": "stream",
          "text": [
            "Testing results\n",
            "Testing accuracy: 5596/6149 (91.01%)\n"
          ]
        },
        {
          "data": {
            "text/plain": [
              "<Figure size 18000x18000 with 0 Axes>"
            ]
          },
          "metadata": {},
          "output_type": "display_data"
        }
      ],
      "source": [
        "def createConfusionMatrix(data_loader, model):\n",
        "    confusion_matrix = torch.zeros((102, 102))\n",
        "    with torch.no_grad():\n",
        "        for i, (inputs, classes) in enumerate(data_loader):\n",
        "            inputs = inputs.to(device)\n",
        "            classes = classes.to(device)\n",
        "            outputs = model(inputs)\n",
        "            _, preds = torch.max(outputs, 1)\n",
        "            for t, p in zip(classes.view(-1), preds.view(-1)):\n",
        "                    confusion_matrix[t.long(), p.long()] += 1\n",
        "\n",
        "    fig = plt.figure(figsize=(250,250))\n",
        "\n",
        "    # confusion_matrix_np = confusion_matrix.numpy()\n",
        "    # np.savetxt(\"confusion_matrix.csv\", confusion_matrix_np, delimiter=\",\")\n",
        "    \n",
        "    # class_names = list(labelReference.values())\n",
        "    df_cm = pd.DataFrame(confusion_matrix).astype(int)\n",
        "    df_cm.to_csv('confusion_matrix.csv')\n",
        "\n",
        "    # heatmap = sn.heatmap(df_cm, annot=True, fmt=\"d\")\n",
        "\n",
        "    # heatmap.yaxis.set_ticklabels(heatmap.yaxis.get_ticklabels(), rotation=0, ha='right',fontsize=10)\n",
        "    # heatmap.xaxis.set_ticklabels(heatmap.xaxis.get_ticklabels(), rotation=45, ha='right',fontsize=10)\n",
        "    # plt.ylabel('True label')\n",
        "    # plt.xlabel('Predicted label')\n",
        "    # return fig\n",
        "\n",
        "print(\"Training/Validation results\")\n",
        "formatted_training_results_data = pd.DataFrame(\n",
        "    {\"Epoch\": [], \"Predictions/Samples\": [], \"Accuracy\": [], \"Loss\": []}\n",
        ")\n",
        "for index, row in training_results_data.iterrows():\n",
        "    formatted_training_results_data.loc[len(formatted_training_results_data.index)] = [\n",
        "            row[0],\n",
        "            f\"{int(row[1])}/{int(row[2])}\",\n",
        "            f\"{row[3]:.2f}%\",\n",
        "            f\"{row[4]}\",\n",
        "        ]\n",
        "\n",
        "print(tabulate(formatted_training_results_data, headers = 'keys', tablefmt = 'fancy_grid', showindex=\"never\"))\n",
        "\n",
        "plt.plot(training_results_data[\"Epoch\"], training_results_data[\"Accuracy\"])\n",
        "plt.title('Accuracy over epochs')\n",
        "plt.xlabel('Epochs')\n",
        "plt.ylabel('Accuracy (%)')\n",
        "plt.yscale('log')\n",
        "# plt.grid(True)\n",
        "plt.show()\n",
        "\n",
        "plt.plot(training_results_data[\"Epoch\"], training_results_data[\"Loss\"])\n",
        "plt.title('Loss over epochs')\n",
        "plt.xlabel('Epochs')\n",
        "plt.ylabel('Loss')\n",
        "plt.yscale('log')\n",
        "# plt.grid(True)\n",
        "plt.show()\n",
        "\n",
        "print(\"Testing results\")\n",
        "n_corrects, n_samples, accuracy = check_accuracy(test_loader, model)\n",
        "print(f\"Testing accuracy: {n_corrects}/{n_samples} ({accuracy:.2f}%)\")\n",
        "writer.add_figure(\"Confusion matrix\", createConfusionMatrix(test_loader, model))\n",
        "writer.flush()\n",
        "writer.close()"
      ]
    }
  ],
  "metadata": {
    "accelerator": "GPU",
    "colab": {
      "collapsed_sections": [],
      "provenance": []
    },
    "gpuClass": "standard",
    "kernelspec": {
      "display_name": "Python 3",
      "name": "python3"
    },
    "language_info": {
      "name": "python"
    }
  },
  "nbformat": 4,
  "nbformat_minor": 0
}
